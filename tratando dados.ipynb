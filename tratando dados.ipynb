{
 "cells": [
  {
   "cell_type": "markdown",
   "metadata": {},
   "source": [
    "## REALIZAR A LIMPEZA DE DADOS\n",
    "Documentar usando as celulas usando em Markdown"
   ]
  },
  {
   "cell_type": "code",
   "execution_count": 116,
   "metadata": {
    "collapsed": true
   },
   "outputs": [],
   "source": [
    "import numpy as np\n",
    "import pandas as pd\n",
    "import seaborn as sb\n",
    "import matplotlib.pyplot as plt\n",
    "\n",
    "%matplotlib inline"
   ]
  },
  {
   "cell_type": "code",
   "execution_count": 117,
   "metadata": {
    "collapsed": true
   },
   "outputs": [],
   "source": [
    "df = pd.read_csv('curso1.csv')"
   ]
  },
  {
   "cell_type": "code",
   "execution_count": 118,
   "metadata": {
    "collapsed": false
   },
   "outputs": [
    {
     "data": {
      "text/html": [
       "<div>\n",
       "<table border=\"1\" class=\"dataframe\">\n",
       "  <thead>\n",
       "    <tr style=\"text-align: right;\">\n",
       "      <th></th>\n",
       "      <th>SIT_MATRICULA</th>\n",
       "      <th>PAI_FALECIDO</th>\n",
       "      <th>MAE_FALECIDO</th>\n",
       "      <th>RENDA_FAMILIAR</th>\n",
       "      <th>TIPO_ESCOLA_ORIGEM</th>\n",
       "      <th>ANO_CONCLUSAO_2_GRAU</th>\n",
       "      <th>RENDA_PER_CAPITA</th>\n",
       "      <th>COD_ESTADO_CIVIL</th>\n",
       "      <th>N_FILHOS</th>\n",
       "      <th>SEXO</th>\n",
       "      <th>...</th>\n",
       "      <th>NIVEL_FALA</th>\n",
       "      <th>NIVEL_COMPREENSAO</th>\n",
       "      <th>NIVEL_ESCRITA</th>\n",
       "      <th>NIVEL_LEITURA</th>\n",
       "      <th>NOTAS</th>\n",
       "      <th>N_FALTAS</th>\n",
       "      <th>COD_DISCIPLINA</th>\n",
       "      <th>CARGA_HOR</th>\n",
       "      <th>ANO_INGRESSO</th>\n",
       "      <th>IDADE_INGRESSO</th>\n",
       "    </tr>\n",
       "  </thead>\n",
       "  <tbody>\n",
       "    <tr>\n",
       "      <th>0</th>\n",
       "      <td>0</td>\n",
       "      <td>0.0</td>\n",
       "      <td>0.0</td>\n",
       "      <td>NaN</td>\n",
       "      <td>E</td>\n",
       "      <td>2014.0</td>\n",
       "      <td>NaN</td>\n",
       "      <td>S</td>\n",
       "      <td>NaN</td>\n",
       "      <td>M</td>\n",
       "      <td>...</td>\n",
       "      <td>1.0</td>\n",
       "      <td>1.0</td>\n",
       "      <td>1.0</td>\n",
       "      <td>1.0</td>\n",
       "      <td>6.70</td>\n",
       "      <td>NaN</td>\n",
       "      <td>648</td>\n",
       "      <td>54</td>\n",
       "      <td>2016</td>\n",
       "      <td>20.0</td>\n",
       "    </tr>\n",
       "    <tr>\n",
       "      <th>1</th>\n",
       "      <td>0</td>\n",
       "      <td>0.0</td>\n",
       "      <td>0.0</td>\n",
       "      <td>0.0</td>\n",
       "      <td>P</td>\n",
       "      <td>2011.0</td>\n",
       "      <td>0.0</td>\n",
       "      <td>NaN</td>\n",
       "      <td>0.0</td>\n",
       "      <td>M</td>\n",
       "      <td>...</td>\n",
       "      <td>2.0</td>\n",
       "      <td>3.0</td>\n",
       "      <td>3.0</td>\n",
       "      <td>3.0</td>\n",
       "      <td>10.00</td>\n",
       "      <td>NaN</td>\n",
       "      <td>648</td>\n",
       "      <td>54</td>\n",
       "      <td>2016</td>\n",
       "      <td>21.0</td>\n",
       "    </tr>\n",
       "    <tr>\n",
       "      <th>2</th>\n",
       "      <td>0</td>\n",
       "      <td>0.0</td>\n",
       "      <td>0.0</td>\n",
       "      <td>0.0</td>\n",
       "      <td>P</td>\n",
       "      <td>2011.0</td>\n",
       "      <td>0.0</td>\n",
       "      <td>NaN</td>\n",
       "      <td>0.0</td>\n",
       "      <td>M</td>\n",
       "      <td>...</td>\n",
       "      <td>1.0</td>\n",
       "      <td>1.0</td>\n",
       "      <td>1.0</td>\n",
       "      <td>1.0</td>\n",
       "      <td>10.00</td>\n",
       "      <td>NaN</td>\n",
       "      <td>648</td>\n",
       "      <td>54</td>\n",
       "      <td>2016</td>\n",
       "      <td>21.0</td>\n",
       "    </tr>\n",
       "    <tr>\n",
       "      <th>3</th>\n",
       "      <td>0</td>\n",
       "      <td>0.0</td>\n",
       "      <td>0.0</td>\n",
       "      <td>0.0</td>\n",
       "      <td>P</td>\n",
       "      <td>2014.0</td>\n",
       "      <td>0.0</td>\n",
       "      <td>NaN</td>\n",
       "      <td>0.0</td>\n",
       "      <td>M</td>\n",
       "      <td>...</td>\n",
       "      <td>NaN</td>\n",
       "      <td>NaN</td>\n",
       "      <td>NaN</td>\n",
       "      <td>NaN</td>\n",
       "      <td>0.00</td>\n",
       "      <td>70.0</td>\n",
       "      <td>648</td>\n",
       "      <td>54</td>\n",
       "      <td>2016</td>\n",
       "      <td>18.0</td>\n",
       "    </tr>\n",
       "    <tr>\n",
       "      <th>4</th>\n",
       "      <td>0</td>\n",
       "      <td>0.0</td>\n",
       "      <td>0.0</td>\n",
       "      <td>0.0</td>\n",
       "      <td>NaN</td>\n",
       "      <td>NaN</td>\n",
       "      <td>0.0</td>\n",
       "      <td>S</td>\n",
       "      <td>0.0</td>\n",
       "      <td>F</td>\n",
       "      <td>...</td>\n",
       "      <td>NaN</td>\n",
       "      <td>NaN</td>\n",
       "      <td>NaN</td>\n",
       "      <td>NaN</td>\n",
       "      <td>0.00</td>\n",
       "      <td>70.0</td>\n",
       "      <td>648</td>\n",
       "      <td>54</td>\n",
       "      <td>2016</td>\n",
       "      <td>18.0</td>\n",
       "    </tr>\n",
       "  </tbody>\n",
       "</table>\n",
       "<p>5 rows × 24 columns</p>\n",
       "</div>"
      ],
      "text/plain": [
       "   SIT_MATRICULA  PAI_FALECIDO  MAE_FALECIDO  RENDA_FAMILIAR  \\\n",
       "0              0           0.0           0.0             NaN   \n",
       "1              0           0.0           0.0             0.0   \n",
       "2              0           0.0           0.0             0.0   \n",
       "3              0           0.0           0.0             0.0   \n",
       "4              0           0.0           0.0             0.0   \n",
       "\n",
       "  TIPO_ESCOLA_ORIGEM  ANO_CONCLUSAO_2_GRAU  RENDA_PER_CAPITA COD_ESTADO_CIVIL  \\\n",
       "0                  E                2014.0               NaN                S   \n",
       "1                  P                2011.0               0.0              NaN   \n",
       "2                  P                2011.0               0.0              NaN   \n",
       "3                  P                2014.0               0.0              NaN   \n",
       "4                NaN                   NaN               0.0                S   \n",
       "\n",
       "   N_FILHOS SEXO       ...       NIVEL_FALA NIVEL_COMPREENSAO NIVEL_ESCRITA  \\\n",
       "0       NaN    M       ...              1.0               1.0           1.0   \n",
       "1       0.0    M       ...              2.0               3.0           3.0   \n",
       "2       0.0    M       ...              1.0               1.0           1.0   \n",
       "3       0.0    M       ...              NaN               NaN           NaN   \n",
       "4       0.0    F       ...              NaN               NaN           NaN   \n",
       "\n",
       "  NIVEL_LEITURA  NOTAS  N_FALTAS  COD_DISCIPLINA  CARGA_HOR ANO_INGRESSO  \\\n",
       "0           1.0   6.70       NaN             648         54         2016   \n",
       "1           3.0  10.00       NaN             648         54         2016   \n",
       "2           1.0  10.00       NaN             648         54         2016   \n",
       "3           NaN   0.00      70.0             648         54         2016   \n",
       "4           NaN   0.00      70.0             648         54         2016   \n",
       "\n",
       "   IDADE_INGRESSO  \n",
       "0            20.0  \n",
       "1            21.0  \n",
       "2            21.0  \n",
       "3            18.0  \n",
       "4            18.0  \n",
       "\n",
       "[5 rows x 24 columns]"
      ]
     },
     "execution_count": 118,
     "metadata": {},
     "output_type": "execute_result"
    }
   ],
   "source": [
    "df.head()"
   ]
  },
  {
   "cell_type": "code",
   "execution_count": 119,
   "metadata": {
    "collapsed": false
   },
   "outputs": [
    {
     "data": {
      "text/plain": [
       "24"
      ]
     },
     "execution_count": 119,
     "metadata": {},
     "output_type": "execute_result"
    }
   ],
   "source": [
    "len(df.columns)"
   ]
  },
  {
   "cell_type": "code",
   "execution_count": 120,
   "metadata": {
    "collapsed": false
   },
   "outputs": [
    {
     "data": {
      "text/plain": [
       "SIT_MATRICULA             int64\n",
       "PAI_FALECIDO            float64\n",
       "MAE_FALECIDO            float64\n",
       "RENDA_FAMILIAR          float64\n",
       "TIPO_ESCOLA_ORIGEM       object\n",
       "ANO_CONCLUSAO_2_GRAU    float64\n",
       "RENDA_PER_CAPITA        float64\n",
       "COD_ESTADO_CIVIL         object\n",
       "N_FILHOS                float64\n",
       "SEXO                     object\n",
       "PROFISSAO                object\n",
       "DESC_CIDADE              object\n",
       "DESC_ESTADO              object\n",
       "DESC_IDIOMA              object\n",
       "NIVEL_FALA              float64\n",
       "NIVEL_COMPREENSAO       float64\n",
       "NIVEL_ESCRITA           float64\n",
       "NIVEL_LEITURA           float64\n",
       "NOTAS                    object\n",
       "N_FALTAS                float64\n",
       "COD_DISCIPLINA            int64\n",
       "CARGA_HOR                 int64\n",
       "ANO_INGRESSO              int64\n",
       "IDADE_INGRESSO          float64\n",
       "dtype: object"
      ]
     },
     "execution_count": 120,
     "metadata": {},
     "output_type": "execute_result"
    }
   ],
   "source": [
    "df.dtypes"
   ]
  },
  {
   "cell_type": "code",
   "execution_count": 121,
   "metadata": {
    "collapsed": false
   },
   "outputs": [
    {
     "data": {
      "text/html": [
       "<div>\n",
       "<table border=\"1\" class=\"dataframe\">\n",
       "  <thead>\n",
       "    <tr style=\"text-align: right;\">\n",
       "      <th></th>\n",
       "      <th>SIT_MATRICULA</th>\n",
       "      <th>PAI_FALECIDO</th>\n",
       "      <th>MAE_FALECIDO</th>\n",
       "      <th>RENDA_FAMILIAR</th>\n",
       "      <th>ANO_CONCLUSAO_2_GRAU</th>\n",
       "      <th>RENDA_PER_CAPITA</th>\n",
       "      <th>N_FILHOS</th>\n",
       "      <th>NIVEL_FALA</th>\n",
       "      <th>NIVEL_COMPREENSAO</th>\n",
       "      <th>NIVEL_ESCRITA</th>\n",
       "      <th>NIVEL_LEITURA</th>\n",
       "      <th>N_FALTAS</th>\n",
       "      <th>COD_DISCIPLINA</th>\n",
       "      <th>CARGA_HOR</th>\n",
       "      <th>ANO_INGRESSO</th>\n",
       "      <th>IDADE_INGRESSO</th>\n",
       "    </tr>\n",
       "  </thead>\n",
       "  <tbody>\n",
       "    <tr>\n",
       "      <th>count</th>\n",
       "      <td>20770.000000</td>\n",
       "      <td>15436.000000</td>\n",
       "      <td>15532.0</td>\n",
       "      <td>11374.000000</td>\n",
       "      <td>19163.000000</td>\n",
       "      <td>11534.000000</td>\n",
       "      <td>9921.000000</td>\n",
       "      <td>11983.000000</td>\n",
       "      <td>11983.000000</td>\n",
       "      <td>11983.000000</td>\n",
       "      <td>11983.000000</td>\n",
       "      <td>18430.00000</td>\n",
       "      <td>20770.000000</td>\n",
       "      <td>20770.000000</td>\n",
       "      <td>20770.000000</td>\n",
       "      <td>20770.000000</td>\n",
       "    </tr>\n",
       "    <tr>\n",
       "      <th>mean</th>\n",
       "      <td>6.700818</td>\n",
       "      <td>0.019824</td>\n",
       "      <td>0.0</td>\n",
       "      <td>1.201248</td>\n",
       "      <td>2007.484632</td>\n",
       "      <td>6.704959</td>\n",
       "      <td>0.104425</td>\n",
       "      <td>1.753401</td>\n",
       "      <td>1.991822</td>\n",
       "      <td>1.810732</td>\n",
       "      <td>2.162063</td>\n",
       "      <td>9.75236</td>\n",
       "      <td>10249.072123</td>\n",
       "      <td>51.952576</td>\n",
       "      <td>2010.863746</td>\n",
       "      <td>21.157439</td>\n",
       "    </tr>\n",
       "    <tr>\n",
       "      <th>std</th>\n",
       "      <td>7.147978</td>\n",
       "      <td>0.139399</td>\n",
       "      <td>0.0</td>\n",
       "      <td>1.883402</td>\n",
       "      <td>4.349144</td>\n",
       "      <td>4.278084</td>\n",
       "      <td>0.482331</td>\n",
       "      <td>0.756781</td>\n",
       "      <td>0.751185</td>\n",
       "      <td>0.733509</td>\n",
       "      <td>0.740334</td>\n",
       "      <td>16.91199</td>\n",
       "      <td>4530.071757</td>\n",
       "      <td>15.288996</td>\n",
       "      <td>1.990884</td>\n",
       "      <td>5.114723</td>\n",
       "    </tr>\n",
       "    <tr>\n",
       "      <th>min</th>\n",
       "      <td>0.000000</td>\n",
       "      <td>0.000000</td>\n",
       "      <td>0.0</td>\n",
       "      <td>0.000000</td>\n",
       "      <td>1973.000000</td>\n",
       "      <td>0.000000</td>\n",
       "      <td>0.000000</td>\n",
       "      <td>1.000000</td>\n",
       "      <td>1.000000</td>\n",
       "      <td>1.000000</td>\n",
       "      <td>1.000000</td>\n",
       "      <td>0.00000</td>\n",
       "      <td>648.000000</td>\n",
       "      <td>27.000000</td>\n",
       "      <td>2008.000000</td>\n",
       "      <td>16.000000</td>\n",
       "    </tr>\n",
       "    <tr>\n",
       "      <th>25%</th>\n",
       "      <td>0.000000</td>\n",
       "      <td>0.000000</td>\n",
       "      <td>0.0</td>\n",
       "      <td>0.000000</td>\n",
       "      <td>2006.000000</td>\n",
       "      <td>2.000000</td>\n",
       "      <td>0.000000</td>\n",
       "      <td>1.000000</td>\n",
       "      <td>1.000000</td>\n",
       "      <td>1.000000</td>\n",
       "      <td>2.000000</td>\n",
       "      <td>0.00000</td>\n",
       "      <td>8595.000000</td>\n",
       "      <td>54.000000</td>\n",
       "      <td>2009.000000</td>\n",
       "      <td>18.000000</td>\n",
       "    </tr>\n",
       "    <tr>\n",
       "      <th>50%</th>\n",
       "      <td>9.000000</td>\n",
       "      <td>0.000000</td>\n",
       "      <td>0.0</td>\n",
       "      <td>0.000000</td>\n",
       "      <td>2008.000000</td>\n",
       "      <td>10.000000</td>\n",
       "      <td>0.000000</td>\n",
       "      <td>2.000000</td>\n",
       "      <td>2.000000</td>\n",
       "      <td>2.000000</td>\n",
       "      <td>2.000000</td>\n",
       "      <td>4.00000</td>\n",
       "      <td>9111.000000</td>\n",
       "      <td>54.000000</td>\n",
       "      <td>2011.000000</td>\n",
       "      <td>19.000000</td>\n",
       "    </tr>\n",
       "    <tr>\n",
       "      <th>75%</th>\n",
       "      <td>11.000000</td>\n",
       "      <td>0.000000</td>\n",
       "      <td>0.0</td>\n",
       "      <td>3.000000</td>\n",
       "      <td>2010.000000</td>\n",
       "      <td>10.000000</td>\n",
       "      <td>0.000000</td>\n",
       "      <td>2.000000</td>\n",
       "      <td>3.000000</td>\n",
       "      <td>2.000000</td>\n",
       "      <td>3.000000</td>\n",
       "      <td>10.00000</td>\n",
       "      <td>9134.000000</td>\n",
       "      <td>54.000000</td>\n",
       "      <td>2012.000000</td>\n",
       "      <td>22.000000</td>\n",
       "    </tr>\n",
       "    <tr>\n",
       "      <th>max</th>\n",
       "      <td>20.000000</td>\n",
       "      <td>1.000000</td>\n",
       "      <td>0.0</td>\n",
       "      <td>6.000000</td>\n",
       "      <td>2015.000000</td>\n",
       "      <td>10.000000</td>\n",
       "      <td>4.000000</td>\n",
       "      <td>3.000000</td>\n",
       "      <td>3.000000</td>\n",
       "      <td>3.000000</td>\n",
       "      <td>3.000000</td>\n",
       "      <td>120.00000</td>\n",
       "      <td>24371.000000</td>\n",
       "      <td>81.000000</td>\n",
       "      <td>2016.000000</td>\n",
       "      <td>56.000000</td>\n",
       "    </tr>\n",
       "  </tbody>\n",
       "</table>\n",
       "</div>"
      ],
      "text/plain": [
       "       SIT_MATRICULA  PAI_FALECIDO  MAE_FALECIDO  RENDA_FAMILIAR  \\\n",
       "count   20770.000000  15436.000000       15532.0    11374.000000   \n",
       "mean        6.700818      0.019824           0.0        1.201248   \n",
       "std         7.147978      0.139399           0.0        1.883402   \n",
       "min         0.000000      0.000000           0.0        0.000000   \n",
       "25%         0.000000      0.000000           0.0        0.000000   \n",
       "50%         9.000000      0.000000           0.0        0.000000   \n",
       "75%        11.000000      0.000000           0.0        3.000000   \n",
       "max        20.000000      1.000000           0.0        6.000000   \n",
       "\n",
       "       ANO_CONCLUSAO_2_GRAU  RENDA_PER_CAPITA     N_FILHOS    NIVEL_FALA  \\\n",
       "count          19163.000000      11534.000000  9921.000000  11983.000000   \n",
       "mean            2007.484632          6.704959     0.104425      1.753401   \n",
       "std                4.349144          4.278084     0.482331      0.756781   \n",
       "min             1973.000000          0.000000     0.000000      1.000000   \n",
       "25%             2006.000000          2.000000     0.000000      1.000000   \n",
       "50%             2008.000000         10.000000     0.000000      2.000000   \n",
       "75%             2010.000000         10.000000     0.000000      2.000000   \n",
       "max             2015.000000         10.000000     4.000000      3.000000   \n",
       "\n",
       "       NIVEL_COMPREENSAO  NIVEL_ESCRITA  NIVEL_LEITURA     N_FALTAS  \\\n",
       "count       11983.000000   11983.000000   11983.000000  18430.00000   \n",
       "mean            1.991822       1.810732       2.162063      9.75236   \n",
       "std             0.751185       0.733509       0.740334     16.91199   \n",
       "min             1.000000       1.000000       1.000000      0.00000   \n",
       "25%             1.000000       1.000000       2.000000      0.00000   \n",
       "50%             2.000000       2.000000       2.000000      4.00000   \n",
       "75%             3.000000       2.000000       3.000000     10.00000   \n",
       "max             3.000000       3.000000       3.000000    120.00000   \n",
       "\n",
       "       COD_DISCIPLINA     CARGA_HOR  ANO_INGRESSO  IDADE_INGRESSO  \n",
       "count    20770.000000  20770.000000  20770.000000    20770.000000  \n",
       "mean     10249.072123     51.952576   2010.863746       21.157439  \n",
       "std       4530.071757     15.288996      1.990884        5.114723  \n",
       "min        648.000000     27.000000   2008.000000       16.000000  \n",
       "25%       8595.000000     54.000000   2009.000000       18.000000  \n",
       "50%       9111.000000     54.000000   2011.000000       19.000000  \n",
       "75%       9134.000000     54.000000   2012.000000       22.000000  \n",
       "max      24371.000000     81.000000   2016.000000       56.000000  "
      ]
     },
     "execution_count": 121,
     "metadata": {},
     "output_type": "execute_result"
    }
   ],
   "source": [
    "df.describe()"
   ]
  },
  {
   "cell_type": "code",
   "execution_count": 122,
   "metadata": {
    "collapsed": false
   },
   "outputs": [
    {
     "data": {
      "text/html": [
       "<div>\n",
       "<table border=\"1\" class=\"dataframe\">\n",
       "  <thead>\n",
       "    <tr style=\"text-align: right;\">\n",
       "      <th></th>\n",
       "      <th>SIT_MATRICULA</th>\n",
       "      <th>PAI_FALECIDO</th>\n",
       "      <th>MAE_FALECIDO</th>\n",
       "      <th>RENDA_FAMILIAR</th>\n",
       "      <th>ANO_CONCLUSAO_2_GRAU</th>\n",
       "      <th>RENDA_PER_CAPITA</th>\n",
       "      <th>N_FILHOS</th>\n",
       "      <th>NIVEL_FALA</th>\n",
       "      <th>NIVEL_COMPREENSAO</th>\n",
       "      <th>NIVEL_ESCRITA</th>\n",
       "      <th>NIVEL_LEITURA</th>\n",
       "      <th>N_FALTAS</th>\n",
       "      <th>COD_DISCIPLINA</th>\n",
       "      <th>CARGA_HOR</th>\n",
       "      <th>ANO_INGRESSO</th>\n",
       "      <th>IDADE_INGRESSO</th>\n",
       "    </tr>\n",
       "  </thead>\n",
       "  <tbody>\n",
       "    <tr>\n",
       "      <th>count</th>\n",
       "      <td>2299.000000</td>\n",
       "      <td>2299.0</td>\n",
       "      <td>2299.0</td>\n",
       "      <td>2299.000000</td>\n",
       "      <td>2299.000000</td>\n",
       "      <td>2299.000000</td>\n",
       "      <td>2299.000000</td>\n",
       "      <td>2299.000000</td>\n",
       "      <td>2299.000000</td>\n",
       "      <td>2299.000000</td>\n",
       "      <td>2299.000000</td>\n",
       "      <td>2299.000000</td>\n",
       "      <td>2299.000000</td>\n",
       "      <td>2299.000000</td>\n",
       "      <td>2299.000000</td>\n",
       "      <td>2299.000000</td>\n",
       "    </tr>\n",
       "    <tr>\n",
       "      <th>mean</th>\n",
       "      <td>5.327534</td>\n",
       "      <td>0.0</td>\n",
       "      <td>0.0</td>\n",
       "      <td>1.072205</td>\n",
       "      <td>2008.397999</td>\n",
       "      <td>5.431057</td>\n",
       "      <td>0.026098</td>\n",
       "      <td>1.769900</td>\n",
       "      <td>2.066986</td>\n",
       "      <td>1.789909</td>\n",
       "      <td>2.131361</td>\n",
       "      <td>7.317529</td>\n",
       "      <td>10592.655502</td>\n",
       "      <td>51.815572</td>\n",
       "      <td>2010.662462</td>\n",
       "      <td>19.607656</td>\n",
       "    </tr>\n",
       "    <tr>\n",
       "      <th>std</th>\n",
       "      <td>6.904747</td>\n",
       "      <td>0.0</td>\n",
       "      <td>0.0</td>\n",
       "      <td>1.764165</td>\n",
       "      <td>2.465853</td>\n",
       "      <td>4.770805</td>\n",
       "      <td>0.227020</td>\n",
       "      <td>0.779211</td>\n",
       "      <td>0.761247</td>\n",
       "      <td>0.773676</td>\n",
       "      <td>0.765990</td>\n",
       "      <td>12.059257</td>\n",
       "      <td>4493.402052</td>\n",
       "      <td>14.954381</td>\n",
       "      <td>1.520683</td>\n",
       "      <td>2.623959</td>\n",
       "    </tr>\n",
       "    <tr>\n",
       "      <th>min</th>\n",
       "      <td>0.000000</td>\n",
       "      <td>0.0</td>\n",
       "      <td>0.0</td>\n",
       "      <td>0.000000</td>\n",
       "      <td>1996.000000</td>\n",
       "      <td>0.000000</td>\n",
       "      <td>0.000000</td>\n",
       "      <td>1.000000</td>\n",
       "      <td>1.000000</td>\n",
       "      <td>1.000000</td>\n",
       "      <td>1.000000</td>\n",
       "      <td>0.000000</td>\n",
       "      <td>648.000000</td>\n",
       "      <td>27.000000</td>\n",
       "      <td>2009.000000</td>\n",
       "      <td>17.000000</td>\n",
       "    </tr>\n",
       "    <tr>\n",
       "      <th>25%</th>\n",
       "      <td>0.000000</td>\n",
       "      <td>0.0</td>\n",
       "      <td>0.0</td>\n",
       "      <td>0.000000</td>\n",
       "      <td>2007.000000</td>\n",
       "      <td>0.000000</td>\n",
       "      <td>0.000000</td>\n",
       "      <td>1.000000</td>\n",
       "      <td>1.000000</td>\n",
       "      <td>1.000000</td>\n",
       "      <td>2.000000</td>\n",
       "      <td>0.000000</td>\n",
       "      <td>8654.000000</td>\n",
       "      <td>54.000000</td>\n",
       "      <td>2010.000000</td>\n",
       "      <td>18.000000</td>\n",
       "    </tr>\n",
       "    <tr>\n",
       "      <th>50%</th>\n",
       "      <td>0.000000</td>\n",
       "      <td>0.0</td>\n",
       "      <td>0.0</td>\n",
       "      <td>0.000000</td>\n",
       "      <td>2008.000000</td>\n",
       "      <td>10.000000</td>\n",
       "      <td>0.000000</td>\n",
       "      <td>2.000000</td>\n",
       "      <td>2.000000</td>\n",
       "      <td>2.000000</td>\n",
       "      <td>2.000000</td>\n",
       "      <td>4.000000</td>\n",
       "      <td>9114.000000</td>\n",
       "      <td>54.000000</td>\n",
       "      <td>2010.000000</td>\n",
       "      <td>19.000000</td>\n",
       "    </tr>\n",
       "    <tr>\n",
       "      <th>75%</th>\n",
       "      <td>10.000000</td>\n",
       "      <td>0.0</td>\n",
       "      <td>0.0</td>\n",
       "      <td>3.000000</td>\n",
       "      <td>2010.000000</td>\n",
       "      <td>10.000000</td>\n",
       "      <td>0.000000</td>\n",
       "      <td>2.000000</td>\n",
       "      <td>3.000000</td>\n",
       "      <td>2.000000</td>\n",
       "      <td>3.000000</td>\n",
       "      <td>9.500000</td>\n",
       "      <td>9145.000000</td>\n",
       "      <td>54.000000</td>\n",
       "      <td>2012.000000</td>\n",
       "      <td>20.000000</td>\n",
       "    </tr>\n",
       "    <tr>\n",
       "      <th>max</th>\n",
       "      <td>18.000000</td>\n",
       "      <td>0.0</td>\n",
       "      <td>0.0</td>\n",
       "      <td>5.000000</td>\n",
       "      <td>2014.000000</td>\n",
       "      <td>10.000000</td>\n",
       "      <td>2.000000</td>\n",
       "      <td>3.000000</td>\n",
       "      <td>3.000000</td>\n",
       "      <td>3.000000</td>\n",
       "      <td>3.000000</td>\n",
       "      <td>108.000000</td>\n",
       "      <td>24371.000000</td>\n",
       "      <td>81.000000</td>\n",
       "      <td>2015.000000</td>\n",
       "      <td>35.000000</td>\n",
       "    </tr>\n",
       "  </tbody>\n",
       "</table>\n",
       "</div>"
      ],
      "text/plain": [
       "       SIT_MATRICULA  PAI_FALECIDO  MAE_FALECIDO  RENDA_FAMILIAR  \\\n",
       "count    2299.000000        2299.0        2299.0     2299.000000   \n",
       "mean        5.327534           0.0           0.0        1.072205   \n",
       "std         6.904747           0.0           0.0        1.764165   \n",
       "min         0.000000           0.0           0.0        0.000000   \n",
       "25%         0.000000           0.0           0.0        0.000000   \n",
       "50%         0.000000           0.0           0.0        0.000000   \n",
       "75%        10.000000           0.0           0.0        3.000000   \n",
       "max        18.000000           0.0           0.0        5.000000   \n",
       "\n",
       "       ANO_CONCLUSAO_2_GRAU  RENDA_PER_CAPITA     N_FILHOS   NIVEL_FALA  \\\n",
       "count           2299.000000       2299.000000  2299.000000  2299.000000   \n",
       "mean            2008.397999          5.431057     0.026098     1.769900   \n",
       "std                2.465853          4.770805     0.227020     0.779211   \n",
       "min             1996.000000          0.000000     0.000000     1.000000   \n",
       "25%             2007.000000          0.000000     0.000000     1.000000   \n",
       "50%             2008.000000         10.000000     0.000000     2.000000   \n",
       "75%             2010.000000         10.000000     0.000000     2.000000   \n",
       "max             2014.000000         10.000000     2.000000     3.000000   \n",
       "\n",
       "       NIVEL_COMPREENSAO  NIVEL_ESCRITA  NIVEL_LEITURA     N_FALTAS  \\\n",
       "count        2299.000000    2299.000000    2299.000000  2299.000000   \n",
       "mean            2.066986       1.789909       2.131361     7.317529   \n",
       "std             0.761247       0.773676       0.765990    12.059257   \n",
       "min             1.000000       1.000000       1.000000     0.000000   \n",
       "25%             1.000000       1.000000       2.000000     0.000000   \n",
       "50%             2.000000       2.000000       2.000000     4.000000   \n",
       "75%             3.000000       2.000000       3.000000     9.500000   \n",
       "max             3.000000       3.000000       3.000000   108.000000   \n",
       "\n",
       "       COD_DISCIPLINA    CARGA_HOR  ANO_INGRESSO  IDADE_INGRESSO  \n",
       "count     2299.000000  2299.000000   2299.000000     2299.000000  \n",
       "mean     10592.655502    51.815572   2010.662462       19.607656  \n",
       "std       4493.402052    14.954381      1.520683        2.623959  \n",
       "min        648.000000    27.000000   2009.000000       17.000000  \n",
       "25%       8654.000000    54.000000   2010.000000       18.000000  \n",
       "50%       9114.000000    54.000000   2010.000000       19.000000  \n",
       "75%       9145.000000    54.000000   2012.000000       20.000000  \n",
       "max      24371.000000    81.000000   2015.000000       35.000000  "
      ]
     },
     "execution_count": 122,
     "metadata": {},
     "output_type": "execute_result"
    }
   ],
   "source": [
    "df.dropna().describe()"
   ]
  },
  {
   "cell_type": "code",
   "execution_count": 123,
   "metadata": {
    "collapsed": false
   },
   "outputs": [
    {
     "data": {
      "text/plain": [
       "array([ 0,  9, 10, 11,  2,  4, 20, 14, 18, 13], dtype=int64)"
      ]
     },
     "execution_count": 123,
     "metadata": {},
     "output_type": "execute_result"
    }
   ],
   "source": [
    "df.SIT_MATRICULA.unique()"
   ]
  },
  {
   "cell_type": "code",
   "execution_count": null,
   "metadata": {
    "collapsed": false
   },
   "outputs": [],
   "source": []
  },
  {
   "cell_type": "code",
   "execution_count": 124,
   "metadata": {
    "collapsed": true
   },
   "outputs": [],
   "source": [
    "# categoria 0 = Matriculado\n",
    "# categoria 2 = Trancado\n",
    "# categoria 4 = Transferido interno\n",
    "# categoria 9 = Evasão\n",
    "# categoria 10 = Cancelado\n",
    "# categoria 11 = Transferido Externo\n",
    "# categoria 13 = Aguardando colação de grau\n",
    "# categoria 14 = Intercambio\n",
    "# categoria 18 = Formado\n",
    "# categoria 20 = Cancelamento compulsorio\n",
    "\n",
    "# evasão = 2, 4, 9, 10, 11, 20\n",
    "# não evasão = 0, 13, 14, 18\n",
    "\n",
    "# 0 = não evasão,  1 = evasão"
   ]
  },
  {
   "cell_type": "markdown",
   "metadata": {},
   "source": [
    "# LOC\n",
    "\n"
   ]
  },
  {
   "cell_type": "code",
   "execution_count": 125,
   "metadata": {
    "collapsed": false
   },
   "outputs": [
    {
     "data": {
      "text/plain": [
       "array([0, 1], dtype=int64)"
      ]
     },
     "execution_count": 125,
     "metadata": {},
     "output_type": "execute_result"
    }
   ],
   "source": [
    "df.loc[ df.SIT_MATRICULA==2 , 'SIT_MATRICULA'] = 1\n",
    "df.loc[ df.SIT_MATRICULA==4 , 'SIT_MATRICULA'] = 1\n",
    "df.loc[df['SIT_MATRICULA']==13,'SIT_MATRICULA'] = 0\n",
    "df.loc[df['SIT_MATRICULA']==14,'SIT_MATRICULA'] = 0\n",
    "df.loc[df['SIT_MATRICULA']==18,'SIT_MATRICULA'] = 0\n",
    "df.loc[df['SIT_MATRICULA']==2,'SIT_MATRICULA'] = 1\n",
    "df.loc[df['SIT_MATRICULA']==4,'SIT_MATRICULA'] = 1\n",
    "df.loc[df['SIT_MATRICULA']==9,'SIT_MATRICULA'] = 1\n",
    "df.loc[df['SIT_MATRICULA']==10,'SIT_MATRICULA'] = 1\n",
    "df.loc[df['SIT_MATRICULA']==11,'SIT_MATRICULA'] = 1\n",
    "df.loc[df['SIT_MATRICULA']==20,'SIT_MATRICULA'] = 1\n",
    "\n",
    "df.SIT_MATRICULA.unique()"
   ]
  },
  {
   "cell_type": "code",
   "execution_count": 126,
   "metadata": {
    "collapsed": false
   },
   "outputs": [
    {
     "data": {
      "text/plain": [
       "0"
      ]
     },
     "execution_count": 126,
     "metadata": {},
     "output_type": "execute_result"
    }
   ],
   "source": [
    "df.iloc[0,0]"
   ]
  },
  {
   "cell_type": "code",
   "execution_count": 127,
   "metadata": {
    "collapsed": false
   },
   "outputs": [
    {
     "data": {
      "text/html": [
       "<div>\n",
       "<table border=\"1\" class=\"dataframe\">\n",
       "  <thead>\n",
       "    <tr style=\"text-align: right;\">\n",
       "      <th></th>\n",
       "      <th>SIT_MATRICULA</th>\n",
       "      <th>PAI_FALECIDO</th>\n",
       "      <th>MAE_FALECIDO</th>\n",
       "      <th>RENDA_FAMILIAR</th>\n",
       "      <th>TIPO_ESCOLA_ORIGEM</th>\n",
       "      <th>ANO_CONCLUSAO_2_GRAU</th>\n",
       "      <th>RENDA_PER_CAPITA</th>\n",
       "      <th>COD_ESTADO_CIVIL</th>\n",
       "      <th>N_FILHOS</th>\n",
       "      <th>SEXO</th>\n",
       "      <th>...</th>\n",
       "      <th>NIVEL_FALA</th>\n",
       "      <th>NIVEL_COMPREENSAO</th>\n",
       "      <th>NIVEL_ESCRITA</th>\n",
       "      <th>NIVEL_LEITURA</th>\n",
       "      <th>NOTAS</th>\n",
       "      <th>N_FALTAS</th>\n",
       "      <th>COD_DISCIPLINA</th>\n",
       "      <th>CARGA_HOR</th>\n",
       "      <th>ANO_INGRESSO</th>\n",
       "      <th>IDADE_INGRESSO</th>\n",
       "    </tr>\n",
       "  </thead>\n",
       "  <tbody>\n",
       "    <tr>\n",
       "      <th>0</th>\n",
       "      <td>0</td>\n",
       "      <td>0.0</td>\n",
       "      <td>0.0</td>\n",
       "      <td>NaN</td>\n",
       "      <td>E</td>\n",
       "      <td>2014.0</td>\n",
       "      <td>NaN</td>\n",
       "      <td>S</td>\n",
       "      <td>NaN</td>\n",
       "      <td>M</td>\n",
       "      <td>...</td>\n",
       "      <td>1.0</td>\n",
       "      <td>1.0</td>\n",
       "      <td>1.0</td>\n",
       "      <td>1.0</td>\n",
       "      <td>6.70</td>\n",
       "      <td>NaN</td>\n",
       "      <td>648</td>\n",
       "      <td>54</td>\n",
       "      <td>2016</td>\n",
       "      <td>20.0</td>\n",
       "    </tr>\n",
       "    <tr>\n",
       "      <th>1</th>\n",
       "      <td>0</td>\n",
       "      <td>0.0</td>\n",
       "      <td>0.0</td>\n",
       "      <td>0.0</td>\n",
       "      <td>P</td>\n",
       "      <td>2011.0</td>\n",
       "      <td>0.0</td>\n",
       "      <td>NaN</td>\n",
       "      <td>0.0</td>\n",
       "      <td>M</td>\n",
       "      <td>...</td>\n",
       "      <td>2.0</td>\n",
       "      <td>3.0</td>\n",
       "      <td>3.0</td>\n",
       "      <td>3.0</td>\n",
       "      <td>10.00</td>\n",
       "      <td>NaN</td>\n",
       "      <td>648</td>\n",
       "      <td>54</td>\n",
       "      <td>2016</td>\n",
       "      <td>21.0</td>\n",
       "    </tr>\n",
       "    <tr>\n",
       "      <th>2</th>\n",
       "      <td>0</td>\n",
       "      <td>0.0</td>\n",
       "      <td>0.0</td>\n",
       "      <td>0.0</td>\n",
       "      <td>P</td>\n",
       "      <td>2011.0</td>\n",
       "      <td>0.0</td>\n",
       "      <td>NaN</td>\n",
       "      <td>0.0</td>\n",
       "      <td>M</td>\n",
       "      <td>...</td>\n",
       "      <td>1.0</td>\n",
       "      <td>1.0</td>\n",
       "      <td>1.0</td>\n",
       "      <td>1.0</td>\n",
       "      <td>10.00</td>\n",
       "      <td>NaN</td>\n",
       "      <td>648</td>\n",
       "      <td>54</td>\n",
       "      <td>2016</td>\n",
       "      <td>21.0</td>\n",
       "    </tr>\n",
       "    <tr>\n",
       "      <th>3</th>\n",
       "      <td>0</td>\n",
       "      <td>0.0</td>\n",
       "      <td>0.0</td>\n",
       "      <td>0.0</td>\n",
       "      <td>P</td>\n",
       "      <td>2014.0</td>\n",
       "      <td>0.0</td>\n",
       "      <td>NaN</td>\n",
       "      <td>0.0</td>\n",
       "      <td>M</td>\n",
       "      <td>...</td>\n",
       "      <td>NaN</td>\n",
       "      <td>NaN</td>\n",
       "      <td>NaN</td>\n",
       "      <td>NaN</td>\n",
       "      <td>0.00</td>\n",
       "      <td>70.0</td>\n",
       "      <td>648</td>\n",
       "      <td>54</td>\n",
       "      <td>2016</td>\n",
       "      <td>18.0</td>\n",
       "    </tr>\n",
       "    <tr>\n",
       "      <th>4</th>\n",
       "      <td>0</td>\n",
       "      <td>0.0</td>\n",
       "      <td>0.0</td>\n",
       "      <td>0.0</td>\n",
       "      <td>NaN</td>\n",
       "      <td>NaN</td>\n",
       "      <td>0.0</td>\n",
       "      <td>S</td>\n",
       "      <td>0.0</td>\n",
       "      <td>F</td>\n",
       "      <td>...</td>\n",
       "      <td>NaN</td>\n",
       "      <td>NaN</td>\n",
       "      <td>NaN</td>\n",
       "      <td>NaN</td>\n",
       "      <td>0.00</td>\n",
       "      <td>70.0</td>\n",
       "      <td>648</td>\n",
       "      <td>54</td>\n",
       "      <td>2016</td>\n",
       "      <td>18.0</td>\n",
       "    </tr>\n",
       "  </tbody>\n",
       "</table>\n",
       "<p>5 rows × 24 columns</p>\n",
       "</div>"
      ],
      "text/plain": [
       "   SIT_MATRICULA  PAI_FALECIDO  MAE_FALECIDO  RENDA_FAMILIAR  \\\n",
       "0              0           0.0           0.0             NaN   \n",
       "1              0           0.0           0.0             0.0   \n",
       "2              0           0.0           0.0             0.0   \n",
       "3              0           0.0           0.0             0.0   \n",
       "4              0           0.0           0.0             0.0   \n",
       "\n",
       "  TIPO_ESCOLA_ORIGEM  ANO_CONCLUSAO_2_GRAU  RENDA_PER_CAPITA COD_ESTADO_CIVIL  \\\n",
       "0                  E                2014.0               NaN                S   \n",
       "1                  P                2011.0               0.0              NaN   \n",
       "2                  P                2011.0               0.0              NaN   \n",
       "3                  P                2014.0               0.0              NaN   \n",
       "4                NaN                   NaN               0.0                S   \n",
       "\n",
       "   N_FILHOS SEXO       ...       NIVEL_FALA NIVEL_COMPREENSAO NIVEL_ESCRITA  \\\n",
       "0       NaN    M       ...              1.0               1.0           1.0   \n",
       "1       0.0    M       ...              2.0               3.0           3.0   \n",
       "2       0.0    M       ...              1.0               1.0           1.0   \n",
       "3       0.0    M       ...              NaN               NaN           NaN   \n",
       "4       0.0    F       ...              NaN               NaN           NaN   \n",
       "\n",
       "  NIVEL_LEITURA  NOTAS  N_FALTAS  COD_DISCIPLINA  CARGA_HOR ANO_INGRESSO  \\\n",
       "0           1.0   6.70       NaN             648         54         2016   \n",
       "1           3.0  10.00       NaN             648         54         2016   \n",
       "2           1.0  10.00       NaN             648         54         2016   \n",
       "3           NaN   0.00      70.0             648         54         2016   \n",
       "4           NaN   0.00      70.0             648         54         2016   \n",
       "\n",
       "   IDADE_INGRESSO  \n",
       "0            20.0  \n",
       "1            21.0  \n",
       "2            21.0  \n",
       "3            18.0  \n",
       "4            18.0  \n",
       "\n",
       "[5 rows x 24 columns]"
      ]
     },
     "execution_count": 127,
     "metadata": {},
     "output_type": "execute_result"
    }
   ],
   "source": [
    "df.head()"
   ]
  },
  {
   "cell_type": "code",
   "execution_count": 128,
   "metadata": {
    "collapsed": false
   },
   "outputs": [
    {
     "data": {
      "text/plain": [
       "array([  0.,   1.,  nan])"
      ]
     },
     "execution_count": 128,
     "metadata": {},
     "output_type": "execute_result"
    }
   ],
   "source": [
    "df.PAI_FALECIDO.unique()"
   ]
  },
  {
   "cell_type": "code",
   "execution_count": 129,
   "metadata": {
    "collapsed": false
   },
   "outputs": [
    {
     "data": {
      "text/plain": [
       "0.0    15130\n",
       "1.0      306\n",
       "Name: PAI_FALECIDO, dtype: int64"
      ]
     },
     "execution_count": 129,
     "metadata": {},
     "output_type": "execute_result"
    }
   ],
   "source": [
    "df.PAI_FALECIDO.value_counts()"
   ]
  },
  {
   "cell_type": "code",
   "execution_count": 130,
   "metadata": {
    "collapsed": false
   },
   "outputs": [
    {
     "data": {
      "text/plain": [
       "0.0    15532\n",
       "Name: MAE_FALECIDO, dtype: int64"
      ]
     },
     "execution_count": 130,
     "metadata": {},
     "output_type": "execute_result"
    }
   ],
   "source": [
    "df.MAE_FALECIDO.value_counts()"
   ]
  },
  {
   "cell_type": "code",
   "execution_count": 131,
   "metadata": {
    "collapsed": false
   },
   "outputs": [
    {
     "data": {
      "text/html": [
       "<div>\n",
       "<table border=\"1\" class=\"dataframe\">\n",
       "  <thead>\n",
       "    <tr style=\"text-align: right;\">\n",
       "      <th></th>\n",
       "      <th>SIT_MATRICULA</th>\n",
       "      <th>RENDA_FAMILIAR</th>\n",
       "      <th>TIPO_ESCOLA_ORIGEM</th>\n",
       "      <th>ANO_CONCLUSAO_2_GRAU</th>\n",
       "      <th>RENDA_PER_CAPITA</th>\n",
       "      <th>COD_ESTADO_CIVIL</th>\n",
       "      <th>N_FILHOS</th>\n",
       "      <th>SEXO</th>\n",
       "      <th>PROFISSAO</th>\n",
       "      <th>DESC_CIDADE</th>\n",
       "      <th>...</th>\n",
       "      <th>NIVEL_FALA</th>\n",
       "      <th>NIVEL_COMPREENSAO</th>\n",
       "      <th>NIVEL_ESCRITA</th>\n",
       "      <th>NIVEL_LEITURA</th>\n",
       "      <th>NOTAS</th>\n",
       "      <th>N_FALTAS</th>\n",
       "      <th>COD_DISCIPLINA</th>\n",
       "      <th>CARGA_HOR</th>\n",
       "      <th>ANO_INGRESSO</th>\n",
       "      <th>IDADE_INGRESSO</th>\n",
       "    </tr>\n",
       "  </thead>\n",
       "  <tbody>\n",
       "    <tr>\n",
       "      <th>0</th>\n",
       "      <td>0</td>\n",
       "      <td>NaN</td>\n",
       "      <td>E</td>\n",
       "      <td>2014.0</td>\n",
       "      <td>NaN</td>\n",
       "      <td>S</td>\n",
       "      <td>NaN</td>\n",
       "      <td>M</td>\n",
       "      <td>NaN</td>\n",
       "      <td>Goiânia</td>\n",
       "      <td>...</td>\n",
       "      <td>1.0</td>\n",
       "      <td>1.0</td>\n",
       "      <td>1.0</td>\n",
       "      <td>1.0</td>\n",
       "      <td>6.70</td>\n",
       "      <td>NaN</td>\n",
       "      <td>648</td>\n",
       "      <td>54</td>\n",
       "      <td>2016</td>\n",
       "      <td>20.0</td>\n",
       "    </tr>\n",
       "    <tr>\n",
       "      <th>1</th>\n",
       "      <td>0</td>\n",
       "      <td>0.0</td>\n",
       "      <td>P</td>\n",
       "      <td>2011.0</td>\n",
       "      <td>0.0</td>\n",
       "      <td>NaN</td>\n",
       "      <td>0.0</td>\n",
       "      <td>M</td>\n",
       "      <td>NaN</td>\n",
       "      <td>Goiânia</td>\n",
       "      <td>...</td>\n",
       "      <td>2.0</td>\n",
       "      <td>3.0</td>\n",
       "      <td>3.0</td>\n",
       "      <td>3.0</td>\n",
       "      <td>10.00</td>\n",
       "      <td>NaN</td>\n",
       "      <td>648</td>\n",
       "      <td>54</td>\n",
       "      <td>2016</td>\n",
       "      <td>21.0</td>\n",
       "    </tr>\n",
       "    <tr>\n",
       "      <th>2</th>\n",
       "      <td>0</td>\n",
       "      <td>0.0</td>\n",
       "      <td>P</td>\n",
       "      <td>2011.0</td>\n",
       "      <td>0.0</td>\n",
       "      <td>NaN</td>\n",
       "      <td>0.0</td>\n",
       "      <td>M</td>\n",
       "      <td>NaN</td>\n",
       "      <td>Goiânia</td>\n",
       "      <td>...</td>\n",
       "      <td>1.0</td>\n",
       "      <td>1.0</td>\n",
       "      <td>1.0</td>\n",
       "      <td>1.0</td>\n",
       "      <td>10.00</td>\n",
       "      <td>NaN</td>\n",
       "      <td>648</td>\n",
       "      <td>54</td>\n",
       "      <td>2016</td>\n",
       "      <td>21.0</td>\n",
       "    </tr>\n",
       "    <tr>\n",
       "      <th>3</th>\n",
       "      <td>0</td>\n",
       "      <td>0.0</td>\n",
       "      <td>P</td>\n",
       "      <td>2014.0</td>\n",
       "      <td>0.0</td>\n",
       "      <td>NaN</td>\n",
       "      <td>0.0</td>\n",
       "      <td>M</td>\n",
       "      <td>NaN</td>\n",
       "      <td>Goiania</td>\n",
       "      <td>...</td>\n",
       "      <td>NaN</td>\n",
       "      <td>NaN</td>\n",
       "      <td>NaN</td>\n",
       "      <td>NaN</td>\n",
       "      <td>0.00</td>\n",
       "      <td>70.0</td>\n",
       "      <td>648</td>\n",
       "      <td>54</td>\n",
       "      <td>2016</td>\n",
       "      <td>18.0</td>\n",
       "    </tr>\n",
       "    <tr>\n",
       "      <th>4</th>\n",
       "      <td>0</td>\n",
       "      <td>0.0</td>\n",
       "      <td>NaN</td>\n",
       "      <td>NaN</td>\n",
       "      <td>0.0</td>\n",
       "      <td>S</td>\n",
       "      <td>0.0</td>\n",
       "      <td>F</td>\n",
       "      <td>NaN</td>\n",
       "      <td>Goiânia</td>\n",
       "      <td>...</td>\n",
       "      <td>NaN</td>\n",
       "      <td>NaN</td>\n",
       "      <td>NaN</td>\n",
       "      <td>NaN</td>\n",
       "      <td>0.00</td>\n",
       "      <td>70.0</td>\n",
       "      <td>648</td>\n",
       "      <td>54</td>\n",
       "      <td>2016</td>\n",
       "      <td>18.0</td>\n",
       "    </tr>\n",
       "  </tbody>\n",
       "</table>\n",
       "<p>5 rows × 22 columns</p>\n",
       "</div>"
      ],
      "text/plain": [
       "   SIT_MATRICULA  RENDA_FAMILIAR TIPO_ESCOLA_ORIGEM  ANO_CONCLUSAO_2_GRAU  \\\n",
       "0              0             NaN                  E                2014.0   \n",
       "1              0             0.0                  P                2011.0   \n",
       "2              0             0.0                  P                2011.0   \n",
       "3              0             0.0                  P                2014.0   \n",
       "4              0             0.0                NaN                   NaN   \n",
       "\n",
       "   RENDA_PER_CAPITA COD_ESTADO_CIVIL  N_FILHOS SEXO PROFISSAO DESC_CIDADE  \\\n",
       "0               NaN                S       NaN    M       NaN     Goiânia   \n",
       "1               0.0              NaN       0.0    M       NaN     Goiânia   \n",
       "2               0.0              NaN       0.0    M       NaN     Goiânia   \n",
       "3               0.0              NaN       0.0    M       NaN     Goiania   \n",
       "4               0.0                S       0.0    F       NaN     Goiânia   \n",
       "\n",
       "        ...       NIVEL_FALA NIVEL_COMPREENSAO  NIVEL_ESCRITA  NIVEL_LEITURA  \\\n",
       "0       ...              1.0               1.0            1.0            1.0   \n",
       "1       ...              2.0               3.0            3.0            3.0   \n",
       "2       ...              1.0               1.0            1.0            1.0   \n",
       "3       ...              NaN               NaN            NaN            NaN   \n",
       "4       ...              NaN               NaN            NaN            NaN   \n",
       "\n",
       "   NOTAS  N_FALTAS COD_DISCIPLINA  CARGA_HOR  ANO_INGRESSO  IDADE_INGRESSO  \n",
       "0   6.70       NaN            648         54          2016            20.0  \n",
       "1  10.00       NaN            648         54          2016            21.0  \n",
       "2  10.00       NaN            648         54          2016            21.0  \n",
       "3   0.00      70.0            648         54          2016            18.0  \n",
       "4   0.00      70.0            648         54          2016            18.0  \n",
       "\n",
       "[5 rows x 22 columns]"
      ]
     },
     "execution_count": 131,
     "metadata": {},
     "output_type": "execute_result"
    }
   ],
   "source": [
    "df = df.drop('PAI_FALECIDO', axis=1)\n",
    "\n",
    "df.drop('MAE_FALECIDO', axis=1, inplace=True)\n",
    "\n",
    "df.head()"
   ]
  },
  {
   "cell_type": "code",
   "execution_count": 132,
   "metadata": {
    "collapsed": false
   },
   "outputs": [
    {
     "data": {
      "text/plain": [
       "array([ nan,   0.,   3.,   4.,   6.,   5.,   1.,   2.])"
      ]
     },
     "execution_count": 132,
     "metadata": {},
     "output_type": "execute_result"
    }
   ],
   "source": [
    "df.RENDA_FAMILIAR.unique()"
   ]
  },
  {
   "cell_type": "code",
   "execution_count": 133,
   "metadata": {
    "collapsed": false
   },
   "outputs": [
    {
     "data": {
      "text/plain": [
       "0.0    7731\n",
       "3.0    1206\n",
       "4.0     812\n",
       "5.0     709\n",
       "2.0     521\n",
       "6.0     363\n",
       "1.0      32\n",
       "Name: RENDA_FAMILIAR, dtype: int64"
      ]
     },
     "execution_count": 133,
     "metadata": {},
     "output_type": "execute_result"
    }
   ],
   "source": [
    "df.RENDA_FAMILIAR.value_counts()"
   ]
  },
  {
   "cell_type": "code",
   "execution_count": 134,
   "metadata": {
    "collapsed": false
   },
   "outputs": [
    {
     "data": {
      "text/plain": [
       "1"
      ]
     },
     "execution_count": 134,
     "metadata": {},
     "output_type": "execute_result"
    }
   ],
   "source": [
    "media = df.loc[(df['RENDA_FAMILIAR'].notnull()), 'RENDA_FAMILIAR' ].mean()\n",
    "media = round(media)\n",
    "media"
   ]
  },
  {
   "cell_type": "code",
   "execution_count": 135,
   "metadata": {
    "collapsed": false
   },
   "outputs": [],
   "source": [
    "df.loc[df['RENDA_FAMILIAR'].isnull(), 'RENDA_FAMILIAR'] = media"
   ]
  },
  {
   "cell_type": "markdown",
   "metadata": {},
   "source": [
    "## ANO DE CONCLUSÃO DE 2 GRAU"
   ]
  },
  {
   "cell_type": "code",
   "execution_count": 136,
   "metadata": {
    "collapsed": false
   },
   "outputs": [
    {
     "data": {
      "text/plain": [
       "array([ 2014.,  2011.,    nan,  2012.,  2013.,  2010.,  2015.,  2009.,\n",
       "        2006.,  2007.,  2008.,  2002.,  2004.,  2001.,  2003.,  1992.,\n",
       "        1997.,  1995.,  1999.,  1986.,  2005.,  2000.,  1993.,  1996.,\n",
       "        1982.,  1998.,  1973.,  1985.,  1990.,  1991.,  1994.])"
      ]
     },
     "execution_count": 136,
     "metadata": {},
     "output_type": "execute_result"
    }
   ],
   "source": [
    "df.ANO_CONCLUSAO_2_GRAU.unique()"
   ]
  },
  {
   "cell_type": "code",
   "execution_count": 137,
   "metadata": {
    "collapsed": false
   },
   "outputs": [
    {
     "data": {
      "text/plain": [
       "<matplotlib.axes._subplots.AxesSubplot at 0xee8a080>"
      ]
     },
     "execution_count": 137,
     "metadata": {},
     "output_type": "execute_result"
    },
    {
     "data": {
      "image/png": "[encoded data removed]",
      "text/plain": [
       "<matplotlib.figure.Figure at 0xee8a9e8>"
      ]
     },
     "metadata": {},
     "output_type": "display_data"
    }
   ],
   "source": [
    "df.ANO_CONCLUSAO_2_GRAU.hist()"
   ]
  },
  {
   "cell_type": "code",
   "execution_count": 138,
   "metadata": {
    "collapsed": false
   },
   "outputs": [
    {
     "data": {
      "text/plain": [
       "Index(['SIT_MATRICULA', 'RENDA_FAMILIAR', 'TIPO_ESCOLA_ORIGEM',\n",
       "       'ANO_CONCLUSAO_2_GRAU', 'RENDA_PER_CAPITA', 'COD_ESTADO_CIVIL',\n",
       "       'N_FILHOS', 'SEXO', 'PROFISSAO', 'DESC_CIDADE', 'DESC_ESTADO',\n",
       "       'DESC_IDIOMA', 'NIVEL_FALA', 'NIVEL_COMPREENSAO', 'NIVEL_ESCRITA',\n",
       "       'NIVEL_LEITURA', 'NOTAS', 'N_FALTAS', 'COD_DISCIPLINA', 'CARGA_HOR',\n",
       "       'ANO_INGRESSO', 'IDADE_INGRESSO'],\n",
       "      dtype='object')"
      ]
     },
     "execution_count": 138,
     "metadata": {},
     "output_type": "execute_result"
    }
   ],
   "source": [
    "df.columns"
   ]
  },
  {
   "cell_type": "code",
   "execution_count": 139,
   "metadata": {
    "collapsed": false
   },
   "outputs": [
    {
     "data": {
      "text/html": [
       "<div>\n",
       "<table border=\"1\" class=\"dataframe\">\n",
       "  <thead>\n",
       "    <tr style=\"text-align: right;\">\n",
       "      <th></th>\n",
       "      <th>SIT_MATRICULA</th>\n",
       "      <th>RENDA_FAMILIAR</th>\n",
       "      <th>ANO_CONCLUSAO_2_GRAU</th>\n",
       "      <th>RENDA_PER_CAPITA</th>\n",
       "      <th>N_FILHOS</th>\n",
       "      <th>NIVEL_FALA</th>\n",
       "      <th>NIVEL_COMPREENSAO</th>\n",
       "      <th>NIVEL_ESCRITA</th>\n",
       "      <th>NIVEL_LEITURA</th>\n",
       "      <th>N_FALTAS</th>\n",
       "      <th>COD_DISCIPLINA</th>\n",
       "      <th>CARGA_HOR</th>\n",
       "      <th>ANO_INGRESSO</th>\n",
       "      <th>IDADE_INGRESSO</th>\n",
       "    </tr>\n",
       "  </thead>\n",
       "  <tbody>\n",
       "    <tr>\n",
       "      <th>SIT_MATRICULA</th>\n",
       "      <td>1.000000</td>\n",
       "      <td>0.004012</td>\n",
       "      <td>-0.132480</td>\n",
       "      <td>0.116275</td>\n",
       "      <td>0.217372</td>\n",
       "      <td>-0.102240</td>\n",
       "      <td>-0.164478</td>\n",
       "      <td>-0.122917</td>\n",
       "      <td>-0.105280</td>\n",
       "      <td>0.128623</td>\n",
       "      <td>-0.198538</td>\n",
       "      <td>0.020573</td>\n",
       "      <td>-0.052490</td>\n",
       "      <td>0.100070</td>\n",
       "    </tr>\n",
       "    <tr>\n",
       "      <th>RENDA_FAMILIAR</th>\n",
       "      <td>0.004012</td>\n",
       "      <td>1.000000</td>\n",
       "      <td>-0.415234</td>\n",
       "      <td>-0.328636</td>\n",
       "      <td>0.256952</td>\n",
       "      <td>-0.080032</td>\n",
       "      <td>-0.097822</td>\n",
       "      <td>-0.075759</td>\n",
       "      <td>-0.097229</td>\n",
       "      <td>0.040468</td>\n",
       "      <td>0.087091</td>\n",
       "      <td>-0.017445</td>\n",
       "      <td>-0.260933</td>\n",
       "      <td>0.313663</td>\n",
       "    </tr>\n",
       "    <tr>\n",
       "      <th>ANO_CONCLUSAO_2_GRAU</th>\n",
       "      <td>-0.132480</td>\n",
       "      <td>-0.415234</td>\n",
       "      <td>1.000000</td>\n",
       "      <td>0.126043</td>\n",
       "      <td>-0.270436</td>\n",
       "      <td>0.042907</td>\n",
       "      <td>0.055041</td>\n",
       "      <td>0.051143</td>\n",
       "      <td>0.031609</td>\n",
       "      <td>-0.076287</td>\n",
       "      <td>-0.088206</td>\n",
       "      <td>0.000234</td>\n",
       "      <td>0.515777</td>\n",
       "      <td>-0.664065</td>\n",
       "    </tr>\n",
       "    <tr>\n",
       "      <th>RENDA_PER_CAPITA</th>\n",
       "      <td>0.116275</td>\n",
       "      <td>-0.328636</td>\n",
       "      <td>0.126043</td>\n",
       "      <td>1.000000</td>\n",
       "      <td>-0.094700</td>\n",
       "      <td>0.024303</td>\n",
       "      <td>0.017386</td>\n",
       "      <td>-0.095938</td>\n",
       "      <td>0.093441</td>\n",
       "      <td>0.032777</td>\n",
       "      <td>-0.103861</td>\n",
       "      <td>0.004688</td>\n",
       "      <td>0.280294</td>\n",
       "      <td>0.105717</td>\n",
       "    </tr>\n",
       "    <tr>\n",
       "      <th>N_FILHOS</th>\n",
       "      <td>0.217372</td>\n",
       "      <td>0.256952</td>\n",
       "      <td>-0.270436</td>\n",
       "      <td>-0.094700</td>\n",
       "      <td>1.000000</td>\n",
       "      <td>-0.208102</td>\n",
       "      <td>-0.244637</td>\n",
       "      <td>-0.172203</td>\n",
       "      <td>-0.201994</td>\n",
       "      <td>0.023308</td>\n",
       "      <td>0.003028</td>\n",
       "      <td>-0.024247</td>\n",
       "      <td>-0.021607</td>\n",
       "      <td>0.269565</td>\n",
       "    </tr>\n",
       "    <tr>\n",
       "      <th>NIVEL_FALA</th>\n",
       "      <td>-0.102240</td>\n",
       "      <td>-0.080032</td>\n",
       "      <td>0.042907</td>\n",
       "      <td>0.024303</td>\n",
       "      <td>-0.208102</td>\n",
       "      <td>1.000000</td>\n",
       "      <td>0.780393</td>\n",
       "      <td>0.815506</td>\n",
       "      <td>0.732328</td>\n",
       "      <td>0.006479</td>\n",
       "      <td>0.015773</td>\n",
       "      <td>0.003707</td>\n",
       "      <td>-0.039516</td>\n",
       "      <td>-0.119831</td>\n",
       "    </tr>\n",
       "    <tr>\n",
       "      <th>NIVEL_COMPREENSAO</th>\n",
       "      <td>-0.164478</td>\n",
       "      <td>-0.097822</td>\n",
       "      <td>0.055041</td>\n",
       "      <td>0.017386</td>\n",
       "      <td>-0.244637</td>\n",
       "      <td>0.780393</td>\n",
       "      <td>1.000000</td>\n",
       "      <td>0.740312</td>\n",
       "      <td>0.815602</td>\n",
       "      <td>-0.009644</td>\n",
       "      <td>0.031846</td>\n",
       "      <td>0.008069</td>\n",
       "      <td>-0.033507</td>\n",
       "      <td>-0.143230</td>\n",
       "    </tr>\n",
       "    <tr>\n",
       "      <th>NIVEL_ESCRITA</th>\n",
       "      <td>-0.122917</td>\n",
       "      <td>-0.075759</td>\n",
       "      <td>0.051143</td>\n",
       "      <td>-0.095938</td>\n",
       "      <td>-0.172203</td>\n",
       "      <td>0.815506</td>\n",
       "      <td>0.740312</td>\n",
       "      <td>1.000000</td>\n",
       "      <td>0.726389</td>\n",
       "      <td>-0.009721</td>\n",
       "      <td>0.015772</td>\n",
       "      <td>0.005844</td>\n",
       "      <td>-0.040313</td>\n",
       "      <td>-0.145183</td>\n",
       "    </tr>\n",
       "    <tr>\n",
       "      <th>NIVEL_LEITURA</th>\n",
       "      <td>-0.105280</td>\n",
       "      <td>-0.097229</td>\n",
       "      <td>0.031609</td>\n",
       "      <td>0.093441</td>\n",
       "      <td>-0.201994</td>\n",
       "      <td>0.732328</td>\n",
       "      <td>0.815602</td>\n",
       "      <td>0.726389</td>\n",
       "      <td>1.000000</td>\n",
       "      <td>-0.014042</td>\n",
       "      <td>0.011537</td>\n",
       "      <td>0.009827</td>\n",
       "      <td>-0.035784</td>\n",
       "      <td>-0.139194</td>\n",
       "    </tr>\n",
       "    <tr>\n",
       "      <th>N_FALTAS</th>\n",
       "      <td>0.128623</td>\n",
       "      <td>0.040468</td>\n",
       "      <td>-0.076287</td>\n",
       "      <td>0.032777</td>\n",
       "      <td>0.023308</td>\n",
       "      <td>0.006479</td>\n",
       "      <td>-0.009644</td>\n",
       "      <td>-0.009721</td>\n",
       "      <td>-0.014042</td>\n",
       "      <td>1.000000</td>\n",
       "      <td>0.060558</td>\n",
       "      <td>0.070255</td>\n",
       "      <td>-0.030123</td>\n",
       "      <td>0.092058</td>\n",
       "    </tr>\n",
       "    <tr>\n",
       "      <th>COD_DISCIPLINA</th>\n",
       "      <td>-0.198538</td>\n",
       "      <td>0.087091</td>\n",
       "      <td>-0.088206</td>\n",
       "      <td>-0.103861</td>\n",
       "      <td>0.003028</td>\n",
       "      <td>0.015773</td>\n",
       "      <td>0.031846</td>\n",
       "      <td>0.015772</td>\n",
       "      <td>0.011537</td>\n",
       "      <td>0.060558</td>\n",
       "      <td>1.000000</td>\n",
       "      <td>-0.288561</td>\n",
       "      <td>-0.123782</td>\n",
       "      <td>0.004463</td>\n",
       "    </tr>\n",
       "    <tr>\n",
       "      <th>CARGA_HOR</th>\n",
       "      <td>0.020573</td>\n",
       "      <td>-0.017445</td>\n",
       "      <td>0.000234</td>\n",
       "      <td>0.004688</td>\n",
       "      <td>-0.024247</td>\n",
       "      <td>0.003707</td>\n",
       "      <td>0.008069</td>\n",
       "      <td>0.005844</td>\n",
       "      <td>0.009827</td>\n",
       "      <td>0.070255</td>\n",
       "      <td>-0.288561</td>\n",
       "      <td>1.000000</td>\n",
       "      <td>-0.020680</td>\n",
       "      <td>-0.015948</td>\n",
       "    </tr>\n",
       "    <tr>\n",
       "      <th>ANO_INGRESSO</th>\n",
       "      <td>-0.052490</td>\n",
       "      <td>-0.260933</td>\n",
       "      <td>0.515777</td>\n",
       "      <td>0.280294</td>\n",
       "      <td>-0.021607</td>\n",
       "      <td>-0.039516</td>\n",
       "      <td>-0.033507</td>\n",
       "      <td>-0.040313</td>\n",
       "      <td>-0.035784</td>\n",
       "      <td>-0.030123</td>\n",
       "      <td>-0.123782</td>\n",
       "      <td>-0.020680</td>\n",
       "      <td>1.000000</td>\n",
       "      <td>0.080797</td>\n",
       "    </tr>\n",
       "    <tr>\n",
       "      <th>IDADE_INGRESSO</th>\n",
       "      <td>0.100070</td>\n",
       "      <td>0.313663</td>\n",
       "      <td>-0.664065</td>\n",
       "      <td>0.105717</td>\n",
       "      <td>0.269565</td>\n",
       "      <td>-0.119831</td>\n",
       "      <td>-0.143230</td>\n",
       "      <td>-0.145183</td>\n",
       "      <td>-0.139194</td>\n",
       "      <td>0.092058</td>\n",
       "      <td>0.004463</td>\n",
       "      <td>-0.015948</td>\n",
       "      <td>0.080797</td>\n",
       "      <td>1.000000</td>\n",
       "    </tr>\n",
       "  </tbody>\n",
       "</table>\n",
       "</div>"
      ],
      "text/plain": [
       "                      SIT_MATRICULA  RENDA_FAMILIAR  ANO_CONCLUSAO_2_GRAU  \\\n",
       "SIT_MATRICULA              1.000000        0.004012             -0.132480   \n",
       "RENDA_FAMILIAR             0.004012        1.000000             -0.415234   \n",
       "ANO_CONCLUSAO_2_GRAU      -0.132480       -0.415234              1.000000   \n",
       "RENDA_PER_CAPITA           0.116275       -0.328636              0.126043   \n",
       "N_FILHOS                   0.217372        0.256952             -0.270436   \n",
       "NIVEL_FALA                -0.102240       -0.080032              0.042907   \n",
       "NIVEL_COMPREENSAO         -0.164478       -0.097822              0.055041   \n",
       "NIVEL_ESCRITA             -0.122917       -0.075759              0.051143   \n",
       "NIVEL_LEITURA             -0.105280       -0.097229              0.031609   \n",
       "N_FALTAS                   0.128623        0.040468             -0.076287   \n",
       "COD_DISCIPLINA            -0.198538        0.087091             -0.088206   \n",
       "CARGA_HOR                  0.020573       -0.017445              0.000234   \n",
       "ANO_INGRESSO              -0.052490       -0.260933              0.515777   \n",
       "IDADE_INGRESSO             0.100070        0.313663             -0.664065   \n",
       "\n",
       "                      RENDA_PER_CAPITA  N_FILHOS  NIVEL_FALA  \\\n",
       "SIT_MATRICULA                 0.116275  0.217372   -0.102240   \n",
       "RENDA_FAMILIAR               -0.328636  0.256952   -0.080032   \n",
       "ANO_CONCLUSAO_2_GRAU          0.126043 -0.270436    0.042907   \n",
       "RENDA_PER_CAPITA              1.000000 -0.094700    0.024303   \n",
       "N_FILHOS                     -0.094700  1.000000   -0.208102   \n",
       "NIVEL_FALA                    0.024303 -0.208102    1.000000   \n",
       "NIVEL_COMPREENSAO             0.017386 -0.244637    0.780393   \n",
       "NIVEL_ESCRITA                -0.095938 -0.172203    0.815506   \n",
       "NIVEL_LEITURA                 0.093441 -0.201994    0.732328   \n",
       "N_FALTAS                      0.032777  0.023308    0.006479   \n",
       "COD_DISCIPLINA               -0.103861  0.003028    0.015773   \n",
       "CARGA_HOR                     0.004688 -0.024247    0.003707   \n",
       "ANO_INGRESSO                  0.280294 -0.021607   -0.039516   \n",
       "IDADE_INGRESSO                0.105717  0.269565   -0.119831   \n",
       "\n",
       "                      NIVEL_COMPREENSAO  NIVEL_ESCRITA  NIVEL_LEITURA  \\\n",
       "SIT_MATRICULA                 -0.164478      -0.122917      -0.105280   \n",
       "RENDA_FAMILIAR                -0.097822      -0.075759      -0.097229   \n",
       "ANO_CONCLUSAO_2_GRAU           0.055041       0.051143       0.031609   \n",
       "RENDA_PER_CAPITA               0.017386      -0.095938       0.093441   \n",
       "N_FILHOS                      -0.244637      -0.172203      -0.201994   \n",
       "NIVEL_FALA                     0.780393       0.815506       0.732328   \n",
       "NIVEL_COMPREENSAO              1.000000       0.740312       0.815602   \n",
       "NIVEL_ESCRITA                  0.740312       1.000000       0.726389   \n",
       "NIVEL_LEITURA                  0.815602       0.726389       1.000000   \n",
       "N_FALTAS                      -0.009644      -0.009721      -0.014042   \n",
       "COD_DISCIPLINA                 0.031846       0.015772       0.011537   \n",
       "CARGA_HOR                      0.008069       0.005844       0.009827   \n",
       "ANO_INGRESSO                  -0.033507      -0.040313      -0.035784   \n",
       "IDADE_INGRESSO                -0.143230      -0.145183      -0.139194   \n",
       "\n",
       "                      N_FALTAS  COD_DISCIPLINA  CARGA_HOR  ANO_INGRESSO  \\\n",
       "SIT_MATRICULA         0.128623       -0.198538   0.020573     -0.052490   \n",
       "RENDA_FAMILIAR        0.040468        0.087091  -0.017445     -0.260933   \n",
       "ANO_CONCLUSAO_2_GRAU -0.076287       -0.088206   0.000234      0.515777   \n",
       "RENDA_PER_CAPITA      0.032777       -0.103861   0.004688      0.280294   \n",
       "N_FILHOS              0.023308        0.003028  -0.024247     -0.021607   \n",
       "NIVEL_FALA            0.006479        0.015773   0.003707     -0.039516   \n",
       "NIVEL_COMPREENSAO    -0.009644        0.031846   0.008069     -0.033507   \n",
       "NIVEL_ESCRITA        -0.009721        0.015772   0.005844     -0.040313   \n",
       "NIVEL_LEITURA        -0.014042        0.011537   0.009827     -0.035784   \n",
       "N_FALTAS              1.000000        0.060558   0.070255     -0.030123   \n",
       "COD_DISCIPLINA        0.060558        1.000000  -0.288561     -0.123782   \n",
       "CARGA_HOR             0.070255       -0.288561   1.000000     -0.020680   \n",
       "ANO_INGRESSO         -0.030123       -0.123782  -0.020680      1.000000   \n",
       "IDADE_INGRESSO        0.092058        0.004463  -0.015948      0.080797   \n",
       "\n",
       "                      IDADE_INGRESSO  \n",
       "SIT_MATRICULA               0.100070  \n",
       "RENDA_FAMILIAR              0.313663  \n",
       "ANO_CONCLUSAO_2_GRAU       -0.664065  \n",
       "RENDA_PER_CAPITA            0.105717  \n",
       "N_FILHOS                    0.269565  \n",
       "NIVEL_FALA                 -0.119831  \n",
       "NIVEL_COMPREENSAO          -0.143230  \n",
       "NIVEL_ESCRITA              -0.145183  \n",
       "NIVEL_LEITURA              -0.139194  \n",
       "N_FALTAS                    0.092058  \n",
       "COD_DISCIPLINA              0.004463  \n",
       "CARGA_HOR                  -0.015948  \n",
       "ANO_INGRESSO                0.080797  \n",
       "IDADE_INGRESSO              1.000000  "
      ]
     },
     "execution_count": 139,
     "metadata": {},
     "output_type": "execute_result"
    }
   ],
   "source": [
    "df.corr(method='spearman')"
   ]
  },
  {
   "cell_type": "code",
   "execution_count": 140,
   "metadata": {
    "collapsed": false
   },
   "outputs": [
    {
     "data": {
      "text/html": [
       "<div>\n",
       "<table border=\"1\" class=\"dataframe\">\n",
       "  <thead>\n",
       "    <tr style=\"text-align: right;\">\n",
       "      <th></th>\n",
       "      <th>ANO_CONCLUSAO_2_GRAU</th>\n",
       "      <th>ANO_INGRESSO</th>\n",
       "    </tr>\n",
       "  </thead>\n",
       "  <tbody>\n",
       "    <tr>\n",
       "      <th>0</th>\n",
       "      <td>2014.0</td>\n",
       "      <td>2016</td>\n",
       "    </tr>\n",
       "    <tr>\n",
       "      <th>1</th>\n",
       "      <td>2011.0</td>\n",
       "      <td>2016</td>\n",
       "    </tr>\n",
       "    <tr>\n",
       "      <th>2</th>\n",
       "      <td>2011.0</td>\n",
       "      <td>2016</td>\n",
       "    </tr>\n",
       "    <tr>\n",
       "      <th>3</th>\n",
       "      <td>2014.0</td>\n",
       "      <td>2016</td>\n",
       "    </tr>\n",
       "    <tr>\n",
       "      <th>4</th>\n",
       "      <td>NaN</td>\n",
       "      <td>2016</td>\n",
       "    </tr>\n",
       "  </tbody>\n",
       "</table>\n",
       "</div>"
      ],
      "text/plain": [
       "   ANO_CONCLUSAO_2_GRAU  ANO_INGRESSO\n",
       "0                2014.0          2016\n",
       "1                2011.0          2016\n",
       "2                2011.0          2016\n",
       "3                2014.0          2016\n",
       "4                   NaN          2016"
      ]
     },
     "execution_count": 140,
     "metadata": {},
     "output_type": "execute_result"
    }
   ],
   "source": [
    "df_ano = df.loc[:, ['ANO_CONCLUSAO_2_GRAU','ANO_INGRESSO']]\n",
    "df_ano.head()"
   ]
  },
  {
   "cell_type": "code",
   "execution_count": 141,
   "metadata": {
    "collapsed": false
   },
   "outputs": [
    {
     "data": {
      "text/plain": [
       "<seaborn.axisgrid.PairGrid at 0xef159e8>"
      ]
     },
     "execution_count": 141,
     "metadata": {},
     "output_type": "execute_result"
    },
    {
     "data": {
      "image/png": "[encoded data removed]",
      "text/plain": [
       "<matplotlib.figure.Figure at 0xef15780>"
      ]
     },
     "metadata": {},
     "output_type": "display_data"
    }
   ],
   "source": [
    "sb.pairplot(df_ano.dropna())"
   ]
  },
  {
   "cell_type": "code",
   "execution_count": 142,
   "metadata": {
    "collapsed": false
   },
   "outputs": [],
   "source": [
    "predicao = df_ano.loc[df_ano['ANO_CONCLUSAO_2_GRAU'].isnull(),:]"
   ]
  },
  {
   "cell_type": "code",
   "execution_count": 143,
   "metadata": {
    "collapsed": false
   },
   "outputs": [
    {
     "data": {
      "text/plain": [
       "array([ nan])"
      ]
     },
     "execution_count": 143,
     "metadata": {},
     "output_type": "execute_result"
    }
   ],
   "source": [
    "predicao.ANO_CONCLUSAO_2_GRAU.unique()"
   ]
  },
  {
   "cell_type": "code",
   "execution_count": 144,
   "metadata": {
    "collapsed": false
   },
   "outputs": [],
   "source": [
    "predicao = predicao.values\n"
   ]
  },
  {
   "cell_type": "code",
   "execution_count": 145,
   "metadata": {
    "collapsed": false
   },
   "outputs": [
    {
     "data": {
      "text/plain": [
       "array([[   nan,  2016.],\n",
       "       [   nan,  2015.],\n",
       "       [   nan,  2015.],\n",
       "       ..., \n",
       "       [   nan,  2013.],\n",
       "       [   nan,  2011.],\n",
       "       [   nan,  2008.]])"
      ]
     },
     "execution_count": 145,
     "metadata": {},
     "output_type": "execute_result"
    }
   ],
   "source": [
    "predicao"
   ]
  },
  {
   "cell_type": "markdown",
   "metadata": {},
   "source": [
    "removendo os NAN para a predição\n",
    "devendo ficar na forma de coluna"
   ]
  },
  {
   "cell_type": "code",
   "execution_count": 146,
   "metadata": {
    "collapsed": false
   },
   "outputs": [],
   "source": [
    "predicao = predicao[:,np.newaxis,1]\n"
   ]
  },
  {
   "cell_type": "code",
   "execution_count": 147,
   "metadata": {
    "collapsed": false
   },
   "outputs": [],
   "source": [
    "treino = df_ano.loc[-df_ano['ANO_CONCLUSAO_2_GRAU'].isnull(),:].values"
   ]
  },
  {
   "cell_type": "code",
   "execution_count": 148,
   "metadata": {
    "collapsed": false
   },
   "outputs": [],
   "source": [
    "X = treino[:,np.newaxis,1]"
   ]
  },
  {
   "cell_type": "code",
   "execution_count": 149,
   "metadata": {
    "collapsed": false
   },
   "outputs": [],
   "source": [
    "y = treino[:,np.newaxis,0]"
   ]
  },
  {
   "cell_type": "code",
   "execution_count": 150,
   "metadata": {
    "collapsed": false
   },
   "outputs": [],
   "source": [
    "from sklearn import linear_model"
   ]
  },
  {
   "cell_type": "code",
   "execution_count": 151,
   "metadata": {
    "collapsed": true
   },
   "outputs": [],
   "source": [
    "regr = linear_model.LinearRegression()"
   ]
  },
  {
   "cell_type": "code",
   "execution_count": 152,
   "metadata": {
    "collapsed": false
   },
   "outputs": [
    {
     "data": {
      "text/plain": [
       "LinearRegression(copy_X=True, fit_intercept=True, n_jobs=1, normalize=False)"
      ]
     },
     "execution_count": 152,
     "metadata": {},
     "output_type": "execute_result"
    }
   ],
   "source": [
    "regr.fit(X,y)"
   ]
  },
  {
   "cell_type": "markdown",
   "metadata": {},
   "source": [
    "## Realizando predição"
   ]
  },
  {
   "cell_type": "code",
   "execution_count": 153,
   "metadata": {
    "collapsed": true
   },
   "outputs": [],
   "source": [
    "ano_valor_predito = regr.predict(predicao)"
   ]
  },
  {
   "cell_type": "code",
   "execution_count": 154,
   "metadata": {
    "collapsed": false
   },
   "outputs": [],
   "source": [
    "ano_valor_predito = ano_valor_predito.astype('int')"
   ]
  },
  {
   "cell_type": "code",
   "execution_count": 155,
   "metadata": {
    "collapsed": false
   },
   "outputs": [
    {
     "data": {
      "text/plain": [
       "array([[2011],\n",
       "       [2010],\n",
       "       [2010],\n",
       "       ..., \n",
       "       [2009],\n",
       "       [2007],\n",
       "       [2005]])"
      ]
     },
     "execution_count": 155,
     "metadata": {},
     "output_type": "execute_result"
    }
   ],
   "source": [
    "ano_valor_predito"
   ]
  },
  {
   "cell_type": "code",
   "execution_count": 156,
   "metadata": {
    "collapsed": false
   },
   "outputs": [],
   "source": [
    "df.loc[df.ANO_CONCLUSAO_2_GRAU.isnull(),'ANO_CONCLUSAO_2_GRAU'] = ano_valor_predito"
   ]
  },
  {
   "cell_type": "code",
   "execution_count": 157,
   "metadata": {
    "collapsed": false
   },
   "outputs": [
    {
     "data": {
      "text/plain": [
       "array([ 2014.,  2011.,  2012.,  2010.,  2013.,  2015.,  2009.,  2006.,\n",
       "        2007.,  2008.,  2002.,  2004.,  2001.,  2003.,  1992.,  1997.,\n",
       "        1995.,  1999.,  1986.,  2005.,  2000.,  1993.,  1996.,  1982.,\n",
       "        1998.,  1973.,  1985.,  1990.,  1991.,  1994.])"
      ]
     },
     "execution_count": 157,
     "metadata": {},
     "output_type": "execute_result"
    }
   ],
   "source": [
    "df.ANO_CONCLUSAO_2_GRAU.unique()"
   ]
  },
  {
   "cell_type": "code",
   "execution_count": null,
   "metadata": {
    "collapsed": true
   },
   "outputs": [],
   "source": []
  },
  {
   "cell_type": "code",
   "execution_count": 163,
   "metadata": {
    "collapsed": false
   },
   "outputs": [
    {
     "data": {
      "text/plain": [
       "array(['6.70', '10.00', '0.00', '1.30', '8.00', '0.50', '6.60', '0.70',\n",
       "       '8.80', '6.00', '7.20', '7.30', '7.00', '7.50', '7.60', '8.50',\n",
       "       '6.50', '5.70', '5.20', '7.90', '9.50', '7.70', '6.20', '5.00',\n",
       "       '4.20', '5.60', '5.30', '5.80', '5.40', '9.70', '2.60', '9.00',\n",
       "       '1.00', '5.90', '5.50', '1.50', '6.90', '7.80', '6.30', '6.80',\n",
       "       '4.50', '6.40', '7.40', '9.60', '9.40', '8.90', '8.60', '3.20',\n",
       "       '0.80', '8.40', '8.30', 0, '9.20', '4.80', '3.30', '3.50', '3.70',\n",
       "       '2.30', '2.70', '8.70', '2.00', '9.80', '3.90', '2.50', '3.80',\n",
       "       '9.90', '0.30', '4.60', '4.00', '1.40', '1.20', '1.90', '0.90',\n",
       "       '1.80', '3.60', '1.60', '8.20', '2.20', '2.80', '9.30', '0.40',\n",
       "       '0.10', '2.40', '4.70', '0.20', '4.40', '3.00', '4.90', '4.30',\n",
       "       '1.70', '2.90', '3.40', '0.60', '80.00', '60.00'], dtype=object)"
      ]
     },
     "execution_count": 163,
     "metadata": {},
     "output_type": "execute_result"
    }
   ],
   "source": [
    "df.NOTAS.unique()"
   ]
  },
  {
   "cell_type": "code",
   "execution_count": 159,
   "metadata": {
    "collapsed": false
   },
   "outputs": [],
   "source": [
    "nota_data = df.loc[df.NOTAS.str.contains('/', na=False)]"
   ]
  },
  {
   "cell_type": "code",
   "execution_count": 160,
   "metadata": {
    "collapsed": false
   },
   "outputs": [
    {
     "data": {
      "text/plain": [
       "pandas.core.frame.DataFrame"
      ]
     },
     "execution_count": 160,
     "metadata": {},
     "output_type": "execute_result"
    }
   ],
   "source": [
    "type(nota_data)"
   ]
  },
  {
   "cell_type": "markdown",
   "metadata": {},
   "source": [
    "para excluir as linhas, deve-se passar o idice das linhas"
   ]
  },
  {
   "cell_type": "code",
   "execution_count": 161,
   "metadata": {
    "collapsed": false
   },
   "outputs": [],
   "source": [
    "df.drop(nota_data.index, inplace=True)"
   ]
  },
  {
   "cell_type": "code",
   "execution_count": 162,
   "metadata": {
    "collapsed": false
   },
   "outputs": [],
   "source": [
    "df.loc[df.NOTAS.isnull(),'NOTAS'] =0"
   ]
  },
  {
   "cell_type": "code",
   "execution_count": 169,
   "metadata": {
    "collapsed": true
   },
   "outputs": [],
   "source": [
    "df.NOTAS = df.NOTAS.astype('float64')"
   ]
  },
  {
   "cell_type": "code",
   "execution_count": 170,
   "metadata": {
    "collapsed": false
   },
   "outputs": [
    {
     "data": {
      "text/plain": [
       "array([  6.7,  10. ,   0. ,   1.3,   8. ,   0.5,   6.6,   0.7,   8.8,\n",
       "         6. ,   7.2,   7.3,   7. ,   7.5,   7.6,   8.5,   6.5,   5.7,\n",
       "         5.2,   7.9,   9.5,   7.7,   6.2,   5. ,   4.2,   5.6,   5.3,\n",
       "         5.8,   5.4,   9.7,   2.6,   9. ,   1. ,   5.9,   5.5,   1.5,\n",
       "         6.9,   7.8,   6.3,   6.8,   4.5,   6.4,   7.4,   9.6,   9.4,\n",
       "         8.9,   8.6,   3.2,   0.8,   8.4,   8.3,   9.2,   4.8,   3.3,\n",
       "         3.5,   3.7,   2.3,   2.7,   8.7,   2. ,   9.8,   3.9,   2.5,\n",
       "         3.8,   9.9,   0.3,   4.6,   4. ,   1.4,   1.2,   1.9,   0.9,\n",
       "         1.8,   3.6,   1.6,   8.2,   2.2,   2.8,   9.3,   0.4,   0.1,\n",
       "         2.4,   4.7,   0.2,   4.4,   3. ,   4.9,   4.3,   1.7,   2.9,\n",
       "         3.4,   0.6,  80. ,  60. ])"
      ]
     },
     "execution_count": 170,
     "metadata": {},
     "output_type": "execute_result"
    }
   ],
   "source": [
    "df.NOTAS.unique()"
   ]
  },
  {
   "cell_type": "code",
   "execution_count": 167,
   "metadata": {
    "collapsed": true
   },
   "outputs": [],
   "source": [
    "def maior_que_dez(x):\n",
    "        if(x>10):\n",
    "            return x/10\n",
    "        else:\n",
    "            return x"
   ]
  },
  {
   "cell_type": "code",
   "execution_count": 171,
   "metadata": {
    "collapsed": false
   },
   "outputs": [],
   "source": [
    "df.NOTAS = df.loc[:,'NOTAS'].apply(maior_que_dez)"
   ]
  },
  {
   "cell_type": "code",
   "execution_count": 172,
   "metadata": {
    "collapsed": false
   },
   "outputs": [
    {
     "data": {
      "text/plain": [
       "array([  6.7,  10. ,   0. ,   1.3,   8. ,   0.5,   6.6,   0.7,   8.8,\n",
       "         6. ,   7.2,   7.3,   7. ,   7.5,   7.6,   8.5,   6.5,   5.7,\n",
       "         5.2,   7.9,   9.5,   7.7,   6.2,   5. ,   4.2,   5.6,   5.3,\n",
       "         5.8,   5.4,   9.7,   2.6,   9. ,   1. ,   5.9,   5.5,   1.5,\n",
       "         6.9,   7.8,   6.3,   6.8,   4.5,   6.4,   7.4,   9.6,   9.4,\n",
       "         8.9,   8.6,   3.2,   0.8,   8.4,   8.3,   9.2,   4.8,   3.3,\n",
       "         3.5,   3.7,   2.3,   2.7,   8.7,   2. ,   9.8,   3.9,   2.5,\n",
       "         3.8,   9.9,   0.3,   4.6,   4. ,   1.4,   1.2,   1.9,   0.9,\n",
       "         1.8,   3.6,   1.6,   8.2,   2.2,   2.8,   9.3,   0.4,   0.1,\n",
       "         2.4,   4.7,   0.2,   4.4,   3. ,   4.9,   4.3,   1.7,   2.9,\n",
       "         3.4,   0.6])"
      ]
     },
     "execution_count": 172,
     "metadata": {},
     "output_type": "execute_result"
    }
   ],
   "source": [
    "df.NOTAS.unique()"
   ]
  },
  {
   "cell_type": "code",
   "execution_count": 174,
   "metadata": {
    "collapsed": false
   },
   "outputs": [
    {
     "data": {
      "text/plain": [
       "6.076960558034527"
      ]
     },
     "execution_count": 174,
     "metadata": {},
     "output_type": "execute_result"
    }
   ],
   "source": [
    "df.NOTAS.mean()"
   ]
  },
  {
   "cell_type": "code",
   "execution_count": null,
   "metadata": {
    "collapsed": true
   },
   "outputs": [],
   "source": []
  }
 ],
 "metadata": {
  "kernelspec": {
   "display_name": "Python 3",
   "language": "python",
   "name": "python3"
  },
  "language_info": {
   "codemirror_mode": {
    "name": "ipython",
    "version": 3
   },
   "file_extension": ".py",
   "mimetype": "text/x-python",
   "name": "python",
   "nbconvert_exporter": "python",
   "pygments_lexer": "ipython3",
   "version": "3.6.0"
  }
 },
 "nbformat": 4,
 "nbformat_minor": 2
}
